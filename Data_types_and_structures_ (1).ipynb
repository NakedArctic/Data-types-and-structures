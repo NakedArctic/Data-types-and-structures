{
  "cells": [
    {
      "cell_type": "code",
      "execution_count": null,
      "metadata": {
        "id": "loq2mIthkif_"
      },
      "outputs": [],
      "source": []
    },
    {
      "cell_type": "markdown",
      "metadata": {
        "id": "29BwIFMPklaz"
      },
      "source": []
    },
    {
      "cell_type": "markdown",
      "metadata": {
        "id": "Wcg3egMOk21U"
      },
      "source": [
        "                                        Data types and *structures*\n",
        "\n"
      ]
    },
    {
      "cell_type": "markdown",
      "metadata": {
        "id": "jWRtJUBYlFf4"
      },
      "source": [
        " Q(1)What are data structures, and why are they important ?\n",
        " - Data structures , are organazing and storing data so that it can be accesed ans manipulate , it includes strings, list , set , tuples , dictionary and array . Data structures are important because they help computers process large and complex information sets more efficiently. They do this by organizing data elements logically, which makes computer code simpler to understand and more efficient."
      ]
    },
    {
      "cell_type": "markdown",
      "metadata": {
        "id": "MQaffv_rmlFJ"
      },
      "source": [
        "Q(2)Explain the difference between mutable and immutable data types with examples?\n",
        "- The main difference between mutable and immutable data types is that mutable data types can be changed after creation, while immutable data types cannot:\n",
        "Mutable\n",
        "Data types that can be changed after creation include lists, dictionaries, and sets. For example, you can add, remove, or update the values in a list.\n",
        "Immutable\n",
        "Data types that cannot be changed after creation include strings and tuples. For example, the words in a printed book cannot be changed once they are print. Mutable data types can be changed after creation, whereas immutable data types can't be changed after creation. i.e., you can add, remove, or modify the contents of a mutable data type but can't do the same with an immutable data type.16 Sept 2024"
      ]
    },
    {
      "cell_type": "markdown",
      "metadata": {
        "id": "Aza_vgOsnKyw"
      },
      "source": [
        "Q(3)What are the main differences between lists and tuples in Python?\n",
        "- The main differences between lists and tuples in Python are:\n",
        "Mutability:\n",
        "Lists: Mutable (can be changed after creation)\n",
        "Tuples: Immutable (cannot be changed after creation)\n",
        "Syntax:\n",
        "Lists: Enclosed in square brackets []\n",
        "Tuples: Enclosed in parentheses ()\n",
        "Performance:\n",
        "Lists: Slower for some operations due to their mutable nature\n",
        "Tuples: Faster for some operations due to their immutable nature\n",
        "Use Cases:\n",
        "Lists:\n",
        "When you need to store a collection of items that may change over time (e.g., a list of student names)\n",
        "Tuples:\n",
        "When you need to store a collection of items that should not change (e.g., coordinates of a point)."
      ]
    },
    {
      "cell_type": "markdown",
      "metadata": {
        "id": "UyavVpjMnrhP"
      },
      "source": [
        "Q(4)Describe how dictionaries store data ?\n",
        "- Dictionaries are used to store data values in key:value pairs. A dictionary is a collection which is ordered*, changeable and do not allow duplicates. As of Python version 3.7, dictionaries are ordered. In Python 3.6 and earlier, dictionaries are unordered. Python's dictionary allows you to store key-value pairs, and then pass the dictionary a key to quickly retrieve its corresponding value. Specifically, you construct the dictionary by specifying one-way mappings from key-objects to value-objects. Each key must map to exactly one value, meaning that a key must be unique."
      ]
    },
    {
      "cell_type": "markdown",
      "metadata": {
        "id": "b3Rq_7laoKxv"
      },
      "source": [
        "Q(5)Why might you use a set instead of a list in Python?\n",
        "- WE might use a set instead of a list in Python for several reasons:\n",
        "1. Uniqueness: Sets only store unique elements, automatically removing duplicates. If you need to ensure that your data contains no duplicates, a set is the ideal choice.\n",
        "2. Membership Testing: Sets are highly optimized for membership testing (checking if an element is present). This operation is much faster in a set than in a list, especially for large datasets.\n",
        "3. Mathematical Operations: Sets support efficient mathematical operations like union, intersection, and difference, which are useful for tasks like finding common elements or combining data from multiple sources.\n",
        "4. Unordered Nature: If the order of elements is not important, a set is a good option as it doesn't maintain any specific order.\n",
        "Example:\n",
        "Python\n",
        "\n",
        "\n",
        "Execution output\n",
        "my_list = [1, 2, 2, 3, 4, 4, 5]\n",
        "my_set = set(my_list)\n",
        "\n",
        "print(my_list)\n",
        "print(my_set)\n",
        "[1, 2, 2, 3, 4, 4, 5]\n",
        "{1, 2, 3, 4, 5}\n",
        "When to Use a List:\n",
        "If you need to maintain the order of elements.\n",
        "If you need to store duplicate values.\n",
        "If you need to access elements by their index.\n"
      ]
    },
    {
      "cell_type": "markdown",
      "metadata": {
        "id": "iV_8yiO3oeMq"
      },
      "source": [
        "Q(6)What is a string in Python, and how is it different from a list ?\n",
        "- In Python, strings are used for representing textual data. A string is a sequence of characters enclosed in either single quotes ('') or double quotes (“”). The Python language provides various built-in methods and functionalities to work with strings efficiently.\n",
        "- Immutable: A list is mutable, meaning you can modify its elements after it is created. On the other hand, a string is immutable, which means you cannot change its characters once it is created. Instead, you need to create a new string with the desired modifications.\n",
        "- In Python, a list and a string are both sequence data types, but they have some key differences:\n",
        "\n",
        "1. Mutable vs. Immutable: A list is mutable, meaning you can modify its elements after it is created. On the other hand, a string is immutable, which means you cannot change its characters once it is created. Instead, you need to create a new string with the desired modifications.\n",
        "\n",
        "2. Collection of Elements: A list is an ordered collection of items, where each item can be of any data type. It allows duplicates, and the elements can be accessed and modified using their indices. On the contrary, a string is an ordered collection of characters. It represents a sequence of Unicode characters and can be accessed using indices as well, but its individual characters cannot be modified due to immutability.\n",
        "\n",
        "3. Representation: In Python, a list is enclosed in square brackets ([]), and its elements are separated by commas. For example: `[1, 2, 3, 4]`. In contrast, a string is enclosed in either single quotes ('') or double quotes (\"\"). For example: `'Hello'` or `\"World\"`.\n",
        "\n",
        "4. Operations: Lists and strings support different operations. Lists can be modified by adding or removing elements, concatenating with other lists, slicing, and more. Strings have specific methods for string manipulation, such as concatenation (+), slicing, searching for substrings, and various formatting operations.\n",
        "\n",
        "Here's a simple example to illustrate the differences:\n",
        "\n",
        "```python\n",
        "\n",
        "my_list = [1, 2, 3, 4]\n",
        "\n",
        "my_string = \"Hello, World!\"\n",
        "\n",
        "# Modifying a list\n",
        "\n",
        "my_list[2] = 5\n",
        "\n",
        "print(my_list) # Output: [1, 2, 5, 4]\n",
        "\n",
        "# Attempting to modify a string will result in an error\n",
        "\n",
        "# my_string[2] = 'x' # Raises TypeError: 'str' object does not support item assignment\n",
        "\n",
        "# Concatenating lists and strings\n",
        "\n",
        "new_list = my_list + [6, 7, 8]\n",
        "\n",
        "new_string = my_string + \" Have a nice day!\"\n",
        "\n",
        "print(new_list) # Output: [1, 2, 5, 4, 6, 7, 8]\n",
        "\n",
        "print(new_string) # Output: Hello, World! Have a nice day!\n",
        "\n",
        "# Accessing elements\n",
        "\n",
        "print(my_list[1]) # Output: 2\n",
        "\n",
        "print(my_string[7]) # Output: W\n",
        "\n",
        "# Length of list and string\n",
        "\n",
        "print(len(my_list)) # Output: 4\n",
        "\n",
        "print(len(my_string)) # Output: 13\n",
        "\n",
        "```\n",
        "\n",
        "Overall, lists and strings serve different purposes in Python, with lists being mutable collections of various data types, while strings are immutable sequences of characters."
      ]
    },
    {
      "cell_type": "markdown",
      "metadata": {
        "id": "bAOwcgIXp9Sz"
      },
      "source": [
        "Q(7) How do tuples ensure data integrity in Python?\n",
        "- Tuples ensure data integrity in Python through their immutability, which means that once a tuple is created, its elements cannot be modified, added, or removed.\n",
        "Here's how this contributes to data integrity:\n",
        "Prevents accidental changes:\n",
        "Since you can't modify tuple elements, it eliminates the risk of accidental modifications that could corrupt your data.\n",
        "Reliable data structures:\n",
        "Tuples provide a stable and consistent representation of data, ensuring that the information remains the same throughout the program's execution.\n",
        "Safe data sharing:\n",
        "When you pass a tuple to a function, you can be confident that the function won't modify the original data, preventing unintended side effects.\n",
        "Suitable for keys in dictionaries:\n",
        "Because they are immutable and hashable, tuples can be used as dictionary keys, unlike lists which can't be used for this purpose.\n",
        "-Tuples are immutable to ensure that their contents remain constant throughout their lifecycle, guaranteeing data integrity and reliability. This immutability allows tuples to be used as keys in dictionaries and elements in sets, as they can be hashed."
      ]
    },
    {
      "cell_type": "markdown",
      "metadata": {
        "id": "Qnp0Sf7QqikL"
      },
      "source": [
        "Q(8) What is a hash table, and how does it relate to dictionaries in Python?\n",
        "- A hash table is a data structure that stores key-value pairs, allowing for efficient retrieval of values based on their associated keys. It achieves this by using a hash function to map keys to indices in an array, enabling near-constant-time average access to elements.\n",
        "Relationship to Python Dictionaries:\n",
        "In Python, the built-in dict type is an implementation of a hash table. This means that when you create a dictionary, you're essentially creating a hash table under the hood.\n",
        "How it works:\n",
        "Hash Function:\n",
        "When you add a key-value pair to a dictionary, Python's hash function takes the key and calculates a unique hash value (an integer).\n",
        "Index Calculation:\n",
        "This hash value is then used to calculate an index in the underlying array where the value will be stored.\n",
        "Collision Handling:\n",
        "If two keys produce the same hash value (a collision), Python employs techniques like open addressing or chaining to resolve the conflict and store both values.\n",
        "Benefits of Hash Tables in Dictionaries:\n",
        "Fast Lookups:\n",
        "Hash tables enable near-constant-time average access to values, regardless of the dictionary's size.\n",
        "Efficient Insertion and Deletion:\n",
        "Similar to lookups, insertion and deletion operations are also efficient in hash tables.\n",
        "Flexibility:\n",
        "Dictionaries can store any type of data as values and use a wide variety of hashable objects as keys."
      ]
    },
    {
      "cell_type": "markdown",
      "metadata": {
        "id": "IUEpyqNerLXE"
      },
      "source": [
        "Q(9) Can lists contain different data types in Python?'\n",
        "- Yes, lists in Python can contain different data types. You can have a mix of integers, strings, floats, booleans, and even other data structures like dictionaries or nested lists within the same list.\n",
        "Example:\n",
        "Python\n",
        "\n",
        "\n",
        "my_list = [1, \"hello\", 3.14, True, {\"name\": \"Alice\"}]\n",
        "print(my_list)"
      ]
    },
    {
      "cell_type": "markdown",
      "metadata": {
        "id": "uStU9pgyrS_E"
      },
      "source": [
        "Q(10) Explain why strings are immutable in Python ?\n",
        "- Strings in Python are “immutable” which means they can not be changed after they are created. Some other immutable data types are integers, float, boolean, etc.\n",
        "\n",
        "The immutability of Python string is very useful as it helps in hashing, performance optimization, safety, ease of use, etc.\n",
        "\n",
        "The article will explore the differences between mutable and immutable objects, highlighting the advantages of using immutable objects. It will also compare immutability with mutability, discussing various methods to handle immutability and achieve desired outcomes.\n",
        "\n",
        "Input:  name_1 = \"Aarun\"\n",
        "             name_1[0] = 'T'\n",
        "Output: TypeError: 'str' object does not support item assignment\n",
        "Explanation: We cannot update the string after declaring it means once an immutable the objects instantiated, its value cannot be changed\n",
        "Python Strings Immutability\n",
        "Immutability is the property of an object according to which we can not change the object after we declared or after the creation of it and this Immutability in the case of the string is known as string immutability in Python."
      ]
    },
    {
      "cell_type": "markdown",
      "metadata": {
        "id": "wVDn9lGPryW5"
      },
      "source": [
        "Q(11) What advantages do dictionaries offer over lists for certain tasks?\n",
        "- Dictionaries offer several advantages over lists for certain tasks, including:\n",
        "Fast lookups\n",
        "Dictionaries use a hash table to store key-value pairs, which makes them ideal for tasks that require frequent lookups or searches.\n",
        "Flexibility\n",
        "Dictionaries can store any type of data as both the key and the value, making them well-suited to a wide range of tasks.\n",
        "Memory efficient\n",
        "Dictionaries only store the key-value pairs you need, so they can be used to store large amounts of data without taking up too much memory.\n",
        "Easy to read\n",
        "Dictionaries make code much easier to read if you need to generate key:value pairs.\n",
        "Here are some other things to consider when using dictionaries and lists:\n",
        "Ordered operations\n",
        "Lists perform faster for ordered operations like sorting.\n",
        "Unordered\n",
        "Dictionaries are unordered, which means that the order in which you add key-value pairs is not preserved.\n",
        "Searching by value\n",
        "Dictionaries are great for searching by key, but they are not easily searchable by value.\n",
        "Use cases\n",
        "Lists are your go-to if you need an ordered collection, like a sequence of user actions. Dictionaries are invaluable when you need quick look-ups, like mapping usernames to user data."
      ]
    },
    {
      "cell_type": "markdown",
      "metadata": {
        "id": "8wPIMFyMsrji"
      },
      "source": [
        "Q(12) Describe a scenario where using a tuple would be preferable over a list?\n",
        "- Use a tuple if you need an immutable collection where the elements won't change after creation. Tuples are generally faster and more memory-efficient than lists, making them better for fixed collections, especially as dictionary keys or when iteration speed is crucial.\n",
        "- The advantages of tuples over the lists are as follows: Tuples are faster than lists. Tuples make the code safe from any accidental modification. If a data is needed in a program which is not supposed to be changed, then it is better to put it in 'tuples' than in 'list'."
      ]
    },
    {
      "cell_type": "markdown",
      "metadata": {
        "id": "5tfxWSNMt2eR"
      },
      "source": [
        "Q(13) How do sets handle duplicate values in Python?\n",
        "- Sets in Python are designed to store unique elements, so they automatically handle duplicate values by discarding them.\n",
        "Here's how it works:\n",
        "When you create a set or add elements to it, Python checks if the element already exists in the set.\n",
        "If the element is already present, the duplicate is ignored and not added to the set.\n",
        "This ensures that each element in the set is unique.\n",
        "Example:\n",
        "Python\n",
        "\n",
        "\n",
        "Execution output\n",
        "my_set = {1, 2, 2, 3, 4, 4}\n",
        "print(my_set)\n",
        "{1, 2, 3, 4}\n",
        "- Key Points:\n",
        "Sets are unordered, so the order of elements is not preserved.\n",
        "You can use the add() method to add a single element to a set.\n",
        "You can use the update() method to add multiple elements from another iterable (e.g., list, tuple) to a set.\n",
        "The len() function can be used to find the number of elements in a set."
      ]
    },
    {
      "cell_type": "markdown",
      "metadata": {
        "id": "aZA-ugKmvgTw"
      },
      "source": [
        "Q(14)How does the “in” keyword work differently for lists and dictionaries ?\n",
        "- The in keyword in Python is used to check for membership. However, its behavior differs depending on the data structure, such as lists and dictionaries. Here's how it works differently:\n",
        "\n",
        "- For Lists\n",
        "The in keyword checks whether a given value exists as an element in the list.\n",
        "It performs a linear search, so the time complexity is\n",
        "𝑂\n",
        "(\n",
        "𝑛\n",
        ")\n",
        "O(n), where\n",
        "𝑛\n",
        "n is the length of the list.\n",
        "- Example:\n",
        "python\n",
        "Copy code\n",
        "my_list = [1, 2, 3, 4, 5]\n",
        "print(3 in my_list)  # Output: True (3 is an element in the list)\n",
        "print(6 in my_list)  # Output: False (6 is not an element in the list)\n",
        "- For Dictionaries\n",
        "The in keyword checks whether a given value exists as a key in the dictionary (not a value).\n",
        "Dictionary lookups are much faster due to hash-based indexing, with an average time complexity of\n",
        "𝑂\n",
        "(\n",
        "1\n",
        ")\n",
        "O(1).\n",
        "- Example:\n",
        "python\n",
        "Copy code\n",
        "my_dict = {'a': 1, 'b': 2, 'c': 3}\n",
        "print('a' in my_dict)  # Output: True ('a' is a key in the dictionary)\n",
        "print(1 in my_dict)    # Output: False (1 is a value, not a key)\n",
        "Key Differences\n",
        "Aspect\tLists\tDictionaries\n",
        "What it checks\tElements of the list\tKeys of the dictionary\n",
        "Time Complexity\n",
        "𝑂\n",
        "(\n",
        "𝑛\n",
        ")\n",
        "O(n)\n",
        "𝑂\n",
        "(\n",
        "1\n",
        ")\n",
        "O(1) (on average)\n",
        "- Example Membership\t3 in [1, 2, 3] → True\t'a' in {'a': 1} → True\n",
        "If you want to check for values in a dictionary, you can explicitly use the .values() method:\n",
        "\n",
        "python\n",
        "Copy code\n",
        "print(1 in my_dict.values())  # Output: True"
      ]
    },
    {
      "cell_type": "markdown",
      "metadata": {
        "id": "T0vbUvtrxdMg"
      },
      "source": [
        "Q(15) Can you modify the elements of a tuple? Explain why or why not?\n",
        "- No, you cannot modify the elements of a tuple in Python. This is because tuples are immutable, meaning their contents cannot be changed once they are created. Here's an explanation of why tuples are immutable and what this means:\n",
        "\n",
        "Reasons for Tuple Immutability\n",
        "Design Choice in Python:\n",
        "\n",
        "Tuples are designed to be immutable, making them more memory-efficient and faster than lists for certain operations.\n",
        "Immutability ensures that tuples can be used as keys in dictionaries and elements in sets, which require immutable objects.\n",
        "Safety and Integrity:\n",
        "\n",
        "Immutability prevents accidental changes to data, which is especially useful when passing data between functions or across different parts of a program.\n",
        "What Happens If You Try to Modify a Tuple?\n",
        "Since tuples do not support item assignment, attempting to change an element will raise a TypeError. For example:\n",
        "\n",
        "python\n",
        "Copy code\n",
        "my_tuple = (1, 2, 3)\n",
        "my_tuple[1] = 10  # Raises TypeError: 'tuple' object does not support item assignment\n",
        "Indirect Ways to Modify Tuple Content\n",
        "Although you cannot modify a tuple itself, you can:\n",
        "\n",
        "Reassign the Entire Tuple:\n",
        "\n",
        "You can assign a new value to the variable holding the tuple, effectively replacing the original tuple with a new one.\n",
        "python\n",
        "Copy code\n",
        "my_tuple = (1, 2, 3)\n",
        "my_tuple = (4, 5, 6)  # Reassignment to a new tuple\n",
        "print(my_tuple)  # Output: (4, 5, 6)\n",
        "Modify Mutable Elements Inside a Tuple:\n",
        "\n",
        "If a tuple contains mutable elements like lists, you can modify the contents of those mutable elements.\n",
        "python\n",
        "Copy code\n",
        "my_tuple = (1, [2, 3], 4)\n",
        "my_tuple[1][0] = 10  # Modifies the list inside the tuple\n",
        "print(my_tuple)  # Output: (1, [10, 3], 4)\n",
        "However, the structure of the tuple itself (its length and order) remains immutable.\n",
        "\n",
        "Conclusion\n",
        "Tuples are immutable to provide benefits like efficiency, safety, and usability in contexts requiring fixed data. If you need a modifiable sequence, you should use a list instead."
      ]
    },
    {
      "cell_type": "markdown",
      "metadata": {
        "id": "kvV1ruPkykcQ"
      },
      "source": [
        "Q(16)What is a nested dictionary, and give an example of its use case?\n",
        "- A nested dictionary is a dictionary where the values associated with keys are themselves dictionaries. It allows for storing and organizing data in a hierarchical or multilevel structure.\n",
        "\n",
        "- Structure of a Nested Dictionary\n",
        "Outer dictionary: Acts as the main container.\n",
        "Inner dictionaries: Contain key-value pairs and act as values of the outer dictionary's keys.\n",
        "Example Syntax\n",
        "python\n",
        "Copy code\n",
        "nested_dict = {\n",
        "    \"outer_key1\": {\"inner_key1\": \"value1\", \"inner_key2\": \"value2\"},\n",
        "    \"outer_key2\": {\"inner_key3\": \"value3\", \"inner_key4\": \"value4\"},\n",
        "}\n",
        "- Use Cases of Nested Dictionaries\n",
        "Nested dictionaries are used when representing hierarchical or grouped data. Common use cases include:\n",
        "\n",
        "Storing Data About Entities with Attributes Example: Representing students and their grades in different subjects.\n",
        "\n",
        "python\n",
        "Copy code\n",
        "students = {\n",
        "    \"Alice\": {\"Math\": 85, \"Science\": 90, \"English\": 88},\n",
        "    \"Bob\": {\"Math\": 78, \"Science\": 82, \"English\": 75},\n",
        "}\n",
        "print(students[\"Alice\"][\"Math\"])  # Output: 85"
      ]
    },
    {
      "cell_type": "markdown",
      "metadata": {
        "id": "cAy9bvMrzJbM"
      },
      "source": [
        " Q(17)Describe the time complexity of accessing elements in a dictionary?\n",
        " - The time complexity of accessing elements in a dictionary in Python depends on whether you are accessing the keys or performing other operations like looking up values. Here’s a detailed breakdown:\n",
        "\n",
        "1. Accessing Elements by Key\n",
        "Average Case Time Complexity:\n",
        "𝑂\n",
        "(\n",
        "1\n",
        ")\n",
        "O(1) (Constant time)\n",
        "\n",
        "- Python dictionaries use a hash table for their implementation.\n",
        "When you access a value using a key (e.g., dict[key]), Python computes the hash of the key to determine its position in the table.\n",
        "If there are no hash collisions (i.e., multiple keys with the same hash value), accessing the value is direct and takes constant time.\n",
        "Worst Case Time Complexity:\n",
        "𝑂\n",
        "(\n",
        "𝑛\n",
        ")\n",
        "O(n) (Linear time)\n",
        "\n",
        "- In rare cases, when there are many hash collisions, all keys with the same hash value might be stored in a linked list or similar structure. In such cases, accessing a value requires a linear search through the list of keys.\n",
        "Python minimizes this with a well-designed hash function and by resizing the hash table dynamically to reduce collisions.\n",
        "Example:\n",
        "python\n",
        "Copy code\n",
        "my_dict = {\"a\": 1, \"b\": 2, \"c\": 3}\n",
        "print(my_dict[\"b\"])  # Time complexity: O(1) on average\n",
        "2. Checking Membership with in\n",
        "Average Case:\n",
        "𝑂\n",
        "(\n",
        "1\n",
        ")\n",
        "O(1)\n",
        "Worst Case:\n",
        "𝑂\n",
        "(\n",
        "𝑛\n",
        ")\n",
        "O(n) (in case of many hash collisions)\n",
        "Similar to key lookup, the in keyword checks if a key exists in the dictionary by hashing the key.\n",
        "Example:\n",
        "python\n",
        "Copy code\n",
        "my_dict = {\"x\": 10, \"y\": 20}\n",
        "print(\"x\" in my_dict)  # Time complexity: O(1) on average\n",
        "3. Iterating Over a Dictionary\n",
        "Iterating over keys, values, or key-value pairs has a time complexity of\n",
        "𝑂\n",
        "(\n",
        "𝑛\n",
        ")\n",
        "O(n), where\n",
        "𝑛\n",
        "n is the number of elements in the dictionary.\n",
        "Keys, values, and items are stored in a way that allows iteration to happen efficiently, but it still requires visiting every element.\n",
        "Example:\n",
        "python\n",
        "Copy code\n",
        "my_dict = {\"a\": 1, \"b\": 2, \"c\": 3}\n",
        "for key in my_dict:\n",
        "    print(key)  # Time complexity: O(n)\n",
        "4. Updating or Adding Elements\n",
        "Average Case:\n",
        "𝑂\n",
        "(\n",
        "1\n",
        ")\n",
        "O(1)\n",
        "Worst Case:\n",
        "𝑂\n",
        "(\n",
        "𝑛\n",
        ")\n",
        "O(n) (if the hash table needs resizing)\n",
        "Adding a new key-value pair involves hashing the key and placing it in the hash table. If the hash table becomes too full, Python resizes it, which takes\n",
        "𝑂\n",
        "(\n",
        "𝑛\n",
        ")\n",
        "O(n).\n",
        "Example:\n",
        "python\n",
        "Copy code\n",
        "my_dict = {}\n",
        "my_dict[\"a\"] = 1  # Time complexity: O(1) on average\n",
        "5. Deleting Elements\n",
        "Average Case:\n",
        "𝑂\n",
        "(\n",
        "1\n",
        ")\n",
        "O(1)\n",
        "Worst Case:\n",
        "𝑂\n",
        "(\n",
        "𝑛\n",
        ")\n",
        "O(n) (if resizing occurs)\n",
        "Deleting a key involves locating it in the hash table, which is\n",
        "𝑂\n",
        "(\n",
        "1\n",
        ")\n",
        "O(1) on average.\n",
        "Example:\n",
        "python\n",
        "Copy code\n",
        "del my_dict[\"a\"]  # Time complexity: O(1) on average\n",
        "Summary Table\n",
        "Operation\tAverage Time Complexity\tWorst-Case Time Complexity\n",
        "Access by key (dict[key])\n",
        "𝑂\n",
        "(\n",
        "1\n",
        ")\n",
        "O(1)\n",
        "𝑂\n",
        "(\n",
        "𝑛\n",
        ")\n",
        "O(n)\n",
        "Membership check (key in dict)\n",
        "𝑂\n",
        "(\n",
        "1\n",
        ")\n",
        "O(1)\n",
        "𝑂\n",
        "(\n",
        "𝑛\n",
        ")\n",
        "O(n)\n",
        "Iteration\n",
        "𝑂\n",
        "(\n",
        "𝑛\n",
        ")\n",
        "O(n)\n",
        "𝑂\n",
        "(\n",
        "𝑛\n",
        ")\n",
        "O(n)\n",
        "Add/Update element\n",
        "𝑂\n",
        "(\n",
        "1\n",
        ")\n",
        "O(1)\n",
        "𝑂\n",
        "(\n",
        "𝑛\n",
        ")\n",
        "O(n)\n",
        "Delete element\n",
        "𝑂\n",
        "(\n",
        "1\n",
        ")\n",
        "O(1)\n",
        "𝑂\n",
        "(\n",
        "𝑛\n",
        ")\n",
        "O(n)\n",
        "Conclusion\n",
        "In most practical scenarios, dictionary operations are highly efficient due to their average-case constant-time complexity, thanks to the use of hash tables. However, in edge cases involving many hash collisions or resizing of the hash table, the time complexity can degrade to linear."
      ]
    },
    {
      "cell_type": "markdown",
      "metadata": {
        "id": "kgP3dcPnz8Iv"
      },
      "source": [
        "Q(18)In what situations are lists preferred over dictionaries?\n",
        "- Lists and dictionaries are both essential data structures in Python, but they are suited to different use cases. Lists are preferred over dictionaries in the following situations:\n",
        "\n",
        "1. When Order Matters\n",
        "Lists maintain the order of elements, making them ideal for tasks where the sequence is important, such as:\n",
        "Maintaining a sorted list.\n",
        "Iterating through elements in the exact order they were added.\n",
        "While Python 3.7+ dictionaries also maintain insertion order, lists are still better for tasks like sorting and indexing.\n",
        "Example:\n",
        "python\n",
        "Copy code\n",
        "tasks = [\"Write code\", \"Test program\", \"Deploy\"]\n",
        "print(tasks[0])  # Output: \"Write code\" (access by index)\n",
        "2. When Only Values Are Needed\n",
        "If you only need to store and manipulate a collection of values without associating them with keys, a list is simpler and more efficient than a dictionary.\n",
        "Example:\n",
        "python\n",
        "Copy code\n",
        "numbers = [1, 2, 3, 4, 5]\n",
        "3. When Positional Access is Required\n",
        "Lists allow access to elements by their position (index), which is not possible in dictionaries.\n",
        "Use cases include:\n",
        "Accessing the nth element in a collection.\n",
        "Replacing or updating elements by their position.\n",
        "Example:\n",
        "python\n",
        "Copy code\n",
        "fruits = [\"apple\", \"banana\", \"cherry\"]\n",
        "print(fruits[1])  # Output: \"banana\" (access by index)\n",
        "4. When Space Efficiency is Critical\n",
        "Lists are generally more memory-efficient than dictionaries because they do not store key-value pairs. This makes them preferable when working with large collections of data.\n",
        "Example:\n",
        "python\n",
        "Copy code\n",
        "# Storing just values\n",
        "data = [100, 200, 300]\n",
        "5. When Performing Sequential Operations\n",
        "Lists are ideal for operations that involve traversing, filtering, or performing computations over a collection of values.\n",
        "Examples:\n",
        "Sorting (list.sort())\n",
        "Slicing (list[start:end])\n",
        "Iterating through elements.\n",
        "Example:\n",
        "python\n",
        "Copy code\n",
        "grades = [85, 90, 78, 92]\n",
        "top_grades = sorted(grades, reverse=True)[:3]\n",
        "print(top_grades)  # Output: [92, 90, 85]"
      ]
    },
    {
      "cell_type": "markdown",
      "metadata": {
        "id": "0uXr-UXl0snN"
      },
      "source": [
        "Q(19)Why are dictionaries considered unordered, and how does that affect data retrieval ?\n",
        "- Historically, dictionaries in Python were implemented using hash tables, which meant there was no guarantee of the order in which items would be stored or retrieved. The order of elements depended on the hash values of the keys, which could vary due to internal operations like resizing the hash table or the insertion order.\n",
        "\n",
        "- However, starting from Python 3.7, dictionaries officially maintain the insertion order as part of their implementation. This means the elements are stored and retrieved in the same order in which they are added. Despite this, dictionaries are still conceptually treated as unordered collections in some contexts because:\n",
        "\n",
        "- Primary Focus on Key-Based Access:\n",
        "\n",
        "Dictionaries are designed to provide fast, key-based lookups, and order is not their main feature.\n",
        "Unlike lists, which are inherently indexed, dictionaries focus on mapping keys to values, not their sequence.\n",
        "Backward Compatibility:\n",
        "\n",
        "Before Python 3.7, dictionaries did not guarantee insertion order. To maintain consistent expectations across versions, they are still often described as unordered collections in theory.\n",
        "How Does \"Unordered\" Affect Data Retrieval?\n",
        "1. Key-Based Access (Independent of Order)\n",
        "The primary way to retrieve data from a dictionary is by using keys, not positions or indices.\n",
        "Since key-based access relies on hashing, the position of the key-value pair in memory does not affect retrieval.\n",
        "Example:\n",
        "python\n",
        "Copy code\n",
        "my_dict = {\"a\": 1, \"b\": 2, \"c\": 3}\n",
        "print(my_dict[\"b\"])  # Output: 2\n",
        "2. Iteration Over Elements\n",
        "In Python 3.7+, iterating over a dictionary (e.g., for key in dict) yields elements in their insertion order. This makes it easier to predict the sequence of items when iterating.\n",
        "Before Python 3.7, the iteration order was arbitrary and unpredictable.\n",
        "Example:\n",
        "python\n",
        "Copy code\n",
        "# Python 3.7+ behavior:\n",
        "my_dict = {\"x\": 10, \"y\": 20, \"z\": 30}\n",
        "for key in my_dict:\n",
        "    print(key)\n",
        "# Output:\n",
        "# x\n",
        "# y\n",
        "# z\n",
        "3. Lack of Index-Based Access\n",
        "Unlike lists, dictionaries do not support positional indexing (e.g., dict[0]), which means you cannot access elements based on their order in the dictionary.\n",
        "Impact on Use Cases\n",
        "Fast Lookups (Unrelated to Order):\n",
        "\n",
        "- Since retrieval depends on keys, the order does not influence the speed of access. Lookups in dictionaries are efficient (\n",
        "𝑂\n",
        "(\n",
        "1\n",
        ")\n",
        "O(1) on average), regardless of how data is ordered or stored internally.\n",
        "Iteration Behavior:\n",
        "\n",
        "- When iterating, insertion order (in Python 3.7+) can provide predictable results. However, the concept of \"unordered\" still reminds developers that dictionaries are not optimized for ordered operations like sorting or indexed access.\n",
        "Sorting Requires Conversion:\n",
        "\n",
        "- To sort a dictionary, you typically convert it to a list of items (e.g., using sorted(dict.items())) since dictionaries themselves are not inherently designed for sorting.\n",
        "Summary\n",
        "While dictionaries in Python 3.7+ maintain insertion order, they are still considered unordered conceptually because they focus on key-based access rather than sequential organization. This design provides fast lookups but does not allow for index-based retrieval or inherent sorting. For tasks requiring order-sensitive operations, other data structures (e.g., lists or OrderedDict) may be more appropriate.\n",
        "\n",
        "\n",
        "\n",
        "\n",
        "\n",
        "\n"
      ]
    },
    {
      "cell_type": "markdown",
      "metadata": {
        "id": "W14twlI91cSK"
      },
      "source": [
        "Q(20) Explain the difference between a list and a dictionary in terms of data retrieval?\n",
        "- The key differences between a list and a dictionary in terms of data retrieval lie in how the data is accessed, the type of access they support, and their performance characteristics. Here's a detailed comparison:\n",
        "\n",
        "1. Access Mechanism\n",
        "Aspect\tList\tDictionary\n",
        "Access Type\tIndex-based\tKey-based\n",
        "Access Syntax\tUse an integer index: list[index]\tUse a key: dict[key]\n",
        "Order of Data\tMaintains a strict order of elements.\tMaintains insertion order (Python 3.7+).\n",
        "Random Access\tSupports direct access using indices.\tRequires a key for access.\n",
        "Example:\n",
        "python\n",
        "Copy code\n",
        "# List\n",
        "my_list = [10, 20, 30]\n",
        "print(my_list[1])  # Output: 20 (Access by index)\n",
        "\n",
        "# Dictionary\n",
        "- my_dict = {\"a\": 100, \"b\": 200, \"c\": 300}\n",
        "print(my_dict[\"b\"])  # Output: 200 (Access by key)\n",
        "2. Retrieval Performance\n",
        "Aspect\tList\tDictionary\n",
        "Search Time\tLinear time\n",
        "𝑂\n",
        "(\n",
        "𝑛\n",
        ")\n",
        "O(n) for searching a value.\tConstant time\n",
        "𝑂\n",
        "(\n",
        "1\n",
        ")\n",
        "O(1) on average for key lookup.\n",
        "Index-Based Access\n",
        "𝑂\n",
        "(\n",
        "1\n",
        ")\n",
        "O(1)\tNot applicable (no index-based access).\n",
        "Key-Based Access\tNot supported.\n",
        "𝑂\n",
        "(\n",
        "1\n",
        ")\n",
        "O(1) average,\n",
        "𝑂\n",
        "(\n",
        "𝑛\n",
        ")\n",
        "O(n) in worst case due to hash collisions.\n",
        "Example:\n",
        "python\n",
        "Copy code\n",
        "# Searching in a list (linear time):\n",
        "- my_list = [10, 20, 30]\n",
        "print(20 in my_list)  # Output: True (Takes O(n))\n",
        "\n",
        "# Searching in a dictionary (constant time):\n",
        "- my_dict = {\"a\": 100, \"b\": 200, \"c\": 300}\n",
        "print(\"b\" in my_dict)  # Output: True (Takes O(1) on average)\n",
        "3. Structure and Use Case\n",
        "Aspect\tList\tDictionary\n",
        "Data Representation\tSequence of values (indexed collection).\tKey-value pairs (mapping).\n",
        "When to Use\tWhen data is ordered or indexed.\tWhen data is associated with unique keys.\n",
        "Example:\n",
        "List Use Case:\n",
        "\n",
        "python\n",
        "Copy code\n",
        "grades = [85, 90, 78]  # Ordered collection of scores.\n",
        "print(grades[0])  # Output: 85 (Access by position)\n",
        "Dictionary Use Case:\n",
        "\n",
        "python\n",
        "Copy code\n",
        "student_grades = {\"Alice\": 85, \"Bob\": 90, \"Charlie\": 78}  # Key-value mapping.\n",
        "print(student_grades[\"Bob\"])  # Output: 90 (Access by key)\n",
        "4. Flexibility in Access\n",
        "Aspect\tList\tDictionary\n",
        "Lookup by Value\tPossible but requires iteration (\n",
        "𝑂\n",
        "(\n",
        "𝑛\n",
        ")\n",
        "O(n)).\tDirect lookup by key (\n",
        "𝑂\n",
        "(\n",
        "1\n",
        ")\n",
        "O(1) average).\n",
        "Index Assignment\tSupports direct index assignment.\tDoes not use indices; requires keys.\n",
        "Key Lookup\tNot applicable (no keys).\tFast and efficient due to hashing.\n",
        "Example:\n",
        "python\n",
        "Copy code\n",
        "# List: Value lookup\n",
        "grades = [85, 90, 78]\n",
        "print(grades.index(90))  # Output: 1 (Find value position, O(n))\n",
        "\n",
        "# Dictionary: Key lookup\n",
        "student_grades = {\"Alice\": 85, \"Bob\": 90, \"Charlie\": 78}\n",
        "print(\"Bob\" in student_grades)  # Output: True (Key lookup, O(1))\n",
        "5. Mutability and Modification\n",
        "Aspect\tList\tDictionary\n",
        "Adding Elements\tAppend or insert at a specific position.\tAdd a key-value pair.\n",
        "Replacing Elements\tReplace by index.\tReplace value associated with a key.\n",
        "Access Error Handling\tRaises IndexError if index is out of range.\tRaises KeyError if key is not found.\n",
        "Example:\n",
        "python\n",
        "Copy code\n",
        "# List: Replace by index\n",
        "grades = [85, 90, 78]\n",
        "grades[1] = 95\n",
        "print(grades)  # Output: [85, 95, 78]\n",
        "\n",
        "# Dictionary: Replace value by key\n",
        "student_grades = {\"Alice\": 85, \"Bob\": 90}\n",
        "student_grades[\"Bob\"] = 95\n",
        "print(student_grades)  # Output: {\"Alice\": 85, \"Bob\": 95}\n",
        "Summary Table\n",
        "Feature\tList\tDictionary\n",
        "Access Method\tIndex-based.\tKey-based.\n",
        "Access Performance\n",
        "𝑂\n",
        "(\n",
        "1\n",
        ")\n",
        "O(1) for indexing,\n",
        "𝑂\n",
        "(\n",
        "𝑛\n",
        ")\n",
        "O(n) for search.\n",
        "𝑂\n",
        "(\n",
        "1\n",
        ")\n",
        "O(1) average for key lookup.\n",
        "Key-Value Mapping\tNot supported.\tKey-value pairs supported.\n",
        "Order\tMaintains strict order.\tMaintains insertion order (Python 3.7+).\n",
        "Error on Invalid Access\tIndexError.\tKeyError.\n",
        "Conclusion\n",
        "Use lists when data is ordered or you need access by position (index).\n",
        "Use dictionaries when you need fast lookups, associations between keys and values, or unique identifiers for your data."
      ]
    },
    {
      "cell_type": "markdown",
      "metadata": {
        "id": "vtqcZSRE2Jzf"
      },
      "source": [
        "                                          *Practical* Questions\n",
        "                                                      "
      ]
    },
    {
      "cell_type": "code",
      "execution_count": 25,
      "metadata": {
        "id": "zY98CbNU2mWx"
      },
      "outputs": [
        {
          "name": "stdout",
          "output_type": "stream",
          "text": [
            "ABHINAV\n"
          ]
        }
      ],
      "source": [
        "#Q(1)Write a code to create a string with your name and print it?\n",
        "my_name = \"ABHINAV\"\n",
        "print(my_name)"
      ]
    },
    {
      "cell_type": "code",
      "execution_count": 26,
      "metadata": {
        "id": "rA10GFw_4F2O"
      },
      "outputs": [
        {
          "name": "stdout",
          "output_type": "stream",
          "text": [
            "11\n"
          ]
        }
      ],
      "source": [
        "#Q(2) Write a code to find the length of the string \"Hello World?\n",
        "string = \"Hello World\"\n",
        "length = len(string)\n",
        "print(length)"
      ]
    },
    {
      "cell_type": "code",
      "execution_count": 27,
      "metadata": {
        "id": "yBr0yf7M4VQJ"
      },
      "outputs": [
        {
          "name": "stdout",
          "output_type": "stream",
          "text": [
            "Pyt\n"
          ]
        }
      ],
      "source": [
        "#Q(3)Write a code to slice the first 3 characters from the string \"Python Programming?\n",
        "string = \"Python Programming\"\n",
        "sliced_string = string[:3]\n",
        "print(sliced_string)"
      ]
    },
    {
      "cell_type": "code",
      "execution_count": 28,
      "metadata": {
        "id": "bioEUpVs4jQD"
      },
      "outputs": [
        {
          "name": "stdout",
          "output_type": "stream",
          "text": [
            "HELLO\n"
          ]
        }
      ],
      "source": [
        "#Q(4)Write a code to convert the string \"hello\" to uppercase?\n",
        "string = \"hello\"\n",
        "uppercase_string = string.upper()\n",
        "print(uppercase_string)"
      ]
    },
    {
      "cell_type": "code",
      "execution_count": 29,
      "metadata": {
        "id": "B0r707Hx4tx2"
      },
      "outputs": [
        {
          "name": "stdout",
          "output_type": "stream",
          "text": [
            "I like orange\n"
          ]
        }
      ],
      "source": [
        "#Q(5)Write a code to replace the word \"apple\" with \"orange\" in the string \"I like apple?\n",
        "string = \"I like apple\"\n",
        "replaced_string = string.replace(\"apple\", \"orange\")\n",
        "print(replaced_string)"
      ]
    },
    {
      "cell_type": "code",
      "execution_count": 30,
      "metadata": {
        "id": "nqBmV4U242Gg"
      },
      "outputs": [
        {
          "name": "stdout",
          "output_type": "stream",
          "text": [
            "[1, 2, 3, 4, 5]\n"
          ]
        }
      ],
      "source": [
        "#Q(6)Write a code to create a list with numbers 1 to 5 and print it?\n",
        "numbers = [1, 2, 3, 4, 5]\n",
        "print(numbers)"
      ]
    },
    {
      "cell_type": "code",
      "execution_count": 31,
      "metadata": {
        "id": "H_-lHBoM5KS5"
      },
      "outputs": [
        {
          "name": "stdout",
          "output_type": "stream",
          "text": [
            "[1, 2, 3, 4, 10]\n"
          ]
        }
      ],
      "source": [
        "#Q(7)Write a code to append the number 10 to the list [1, 2, 3, 4]?\n",
        "numbers = [1, 2, 3, 4]\n",
        "numbers.append(10)\n",
        "print(numbers)"
      ]
    },
    {
      "cell_type": "code",
      "execution_count": 32,
      "metadata": {
        "id": "KVPOrll-6lau"
      },
      "outputs": [
        {
          "name": "stdout",
          "output_type": "stream",
          "text": [
            "[1, 2, 4, 5]\n"
          ]
        }
      ],
      "source": [
        "#Q(8)Write a code to remove the number 3 from the list [1, 2, 3, 4, 5]?\n",
        "numbers = [1, 2, 3, 4, 5]\n",
        "numbers.remove(3)\n",
        "print(numbers)"
      ]
    },
    {
      "cell_type": "code",
      "execution_count": 33,
      "metadata": {
        "id": "94hnNhgy6z-7"
      },
      "outputs": [
        {
          "name": "stdout",
          "output_type": "stream",
          "text": [
            "b\n"
          ]
        }
      ],
      "source": [
        "#Q(9)Write a code to access the second element in the list ['a', 'b', 'c', 'd']?\n",
        "my_list = ['a', 'b', 'c', 'd']\n",
        "second_element = my_list[1]\n",
        "print(second_element)"
      ]
    },
    {
      "cell_type": "code",
      "execution_count": 34,
      "metadata": {
        "id": "dGV9GesX68pB"
      },
      "outputs": [
        {
          "name": "stdout",
          "output_type": "stream",
          "text": [
            "[50, 40, 30, 20, 10]\n"
          ]
        }
      ],
      "source": [
        "#Q(10)Write a code to reverse the list [10, 20, 30, 40, 50]?\n",
        "my_list = [10, 20, 30, 40, 50]\n",
        "reversed_list = my_list[::-1]\n",
        "print(reversed_list)"
      ]
    },
    {
      "cell_type": "code",
      "execution_count": 35,
      "metadata": {
        "id": "OYtdp2kp7GN-"
      },
      "outputs": [
        {
          "name": "stdout",
          "output_type": "stream",
          "text": [
            "(10, 20, 30)\n"
          ]
        }
      ],
      "source": [
        "#Q(11)Write a code to create a tuple with the elements 10, 20, 30 and print it?\n",
        "my_tuple = (10, 20, 30)\n",
        "print(my_tuple)"
      ]
    },
    {
      "cell_type": "code",
      "execution_count": 36,
      "metadata": {
        "id": "d-klaqKQ79BO"
      },
      "outputs": [
        {
          "name": "stdout",
          "output_type": "stream",
          "text": [
            "apple\n"
          ]
        }
      ],
      "source": [
        "#Q(12)Write a code to access the first element of the tuple ('apple', 'banana', 'cherry'?\n",
        "my_tuple = ('apple', 'banana', 'cherry')\n",
        "first_element = my_tuple[0]\n",
        "print(first_element)"
      ]
    },
    {
      "cell_type": "code",
      "execution_count": 37,
      "metadata": {
        "id": "690efxNI8Egh"
      },
      "outputs": [
        {
          "name": "stdout",
          "output_type": "stream",
          "text": [
            "3\n"
          ]
        }
      ],
      "source": [
        "#Q(13) Write a code to count how many times the number 2 appears in the tuple (1, 2, 3, 2, 4, 2)?\n",
        "my_tuple = (1, 2, 3, 2, 4, 2)\n",
        "count = my_tuple.count(2)\n",
        "print(count)\n"
      ]
    },
    {
      "cell_type": "code",
      "execution_count": 38,
      "metadata": {
        "id": "Q0B7lld28TGE"
      },
      "outputs": [
        {
          "name": "stdout",
          "output_type": "stream",
          "text": [
            "1\n"
          ]
        }
      ],
      "source": [
        "#Q(14)Write a code to find the index of the element \"cat\" in the tuple ('dog', 'cat', 'rabbit')?\n",
        "my_tuple = ('dog', 'cat', 'rabbit')\n",
        "index = my_tuple.index('cat')\n",
        "print(index)\n"
      ]
    },
    {
      "cell_type": "code",
      "execution_count": 39,
      "metadata": {
        "id": "Yytzx4N08awL"
      },
      "outputs": [
        {
          "name": "stdout",
          "output_type": "stream",
          "text": [
            "True\n"
          ]
        }
      ],
      "source": [
        "#Q(15)Write a code to check if the element \"banana\" is in the tuple ('apple', 'orange', 'banana')?\n",
        "my_tuple = ('apple', 'orange', 'banana')\n",
        "contains_banana = 'banana' in my_tuple\n",
        "print(contains_banana)"
      ]
    },
    {
      "cell_type": "code",
      "execution_count": 40,
      "metadata": {
        "id": "pcnKupQ-8h3b"
      },
      "outputs": [
        {
          "name": "stdout",
          "output_type": "stream",
          "text": [
            "{1, 2, 3, 4, 5}\n"
          ]
        }
      ],
      "source": [
        "#Q(16)Write a code to create a set with the elements 1, 2, 3, 4, 5 and print it?\n",
        "my_set = {1, 2, 3, 4, 5}\n",
        "print(my_set)"
      ]
    },
    {
      "cell_type": "code",
      "execution_count": 41,
      "metadata": {
        "id": "F30lvCX58rVq"
      },
      "outputs": [
        {
          "name": "stdout",
          "output_type": "stream",
          "text": [
            "{1, 2, 3, 4, 6}\n"
          ]
        }
      ],
      "source": [
        "#Q(17) Write a code to add the element 6 to the set {1, 2, 3, 4}?\n",
        "my_set = {1, 2, 3, 4}\n",
        "my_set.add(6)\n",
        "print(my_set)\n"
      ]
    },
    {
      "cell_type": "code",
      "execution_count": 42,
      "metadata": {
        "id": "IxwNTz8R85fV"
      },
      "outputs": [
        {
          "name": "stdout",
          "output_type": "stream",
          "text": [
            "(10, 20, 30)\n"
          ]
        }
      ],
      "source": [
        "#Q(18) Write a code to create a tuple with the elements 10, 20, 30 and print it?\n",
        "my_tuple = (10, 20, 30)\n",
        "print(my_tuple)"
      ]
    },
    {
      "cell_type": "code",
      "execution_count": 43,
      "metadata": {
        "id": "iLAxf9pN9ACk"
      },
      "outputs": [
        {
          "name": "stdout",
          "output_type": "stream",
          "text": [
            "apple\n"
          ]
        }
      ],
      "source": [
        "#Q(19) Write a code to access the first element of the tuple ('apple', 'banana', 'cherry')?\n",
        "my_tuple = ('apple', 'banana', 'cherry')\n",
        "first_element = my_tuple[0]\n",
        "print(first_element)"
      ]
    },
    {
      "cell_type": "code",
      "execution_count": 44,
      "metadata": {
        "id": "0gyNQJHK9H4a"
      },
      "outputs": [
        {
          "name": "stdout",
          "output_type": "stream",
          "text": [
            "3\n"
          ]
        }
      ],
      "source": [
        "#Q(20) Write a code to count how many times the number 2 appears in the tuple (1, 2, 3, 2, 4, 2)?\n",
        "my_tuple = (1, 2, 3, 2, 4, 2)\n",
        "count = my_tuple.count(2)\n",
        "print(count)"
      ]
    },
    {
      "cell_type": "code",
      "execution_count": 45,
      "metadata": {
        "id": "T8dxi5FF9Sge"
      },
      "outputs": [
        {
          "name": "stdout",
          "output_type": "stream",
          "text": [
            "1\n"
          ]
        }
      ],
      "source": [
        "#Q(21)Write a code to find the index of the element \"cat\" in the tuple ('dog', 'cat', 'rabbit')?\n",
        "my_tuple = ('dog', 'cat', 'rabbit')\n",
        "index = my_tuple.index('cat')\n",
        "print(index)"
      ]
    },
    {
      "cell_type": "code",
      "execution_count": 46,
      "metadata": {
        "id": "SsutPm7-9cDX"
      },
      "outputs": [
        {
          "name": "stdout",
          "output_type": "stream",
          "text": [
            "True\n"
          ]
        }
      ],
      "source": [
        "#Q(22) Write a code to check if the element \"banana\" is in the tuple ('apple', 'orange', 'banana')?\n",
        "my_tuple = ('apple', 'orange', 'banana')\n",
        "contains_banana = 'banana' in my_tuple\n",
        "print(contains_banana)"
      ]
    },
    {
      "cell_type": "code",
      "execution_count": 47,
      "metadata": {
        "id": "dhFAK0oT9pIn"
      },
      "outputs": [
        {
          "name": "stdout",
          "output_type": "stream",
          "text": [
            "{1, 2, 3, 4, 5}\n"
          ]
        }
      ],
      "source": [
        "#Q(23). Write a code to create a set with the elements 1, 2, 3, 4, 5 and print it?\n",
        "my_set = {1, 2, 3, 4, 5}\n",
        "print(my_set)"
      ]
    },
    {
      "cell_type": "code",
      "execution_count": 48,
      "metadata": {
        "id": "bQPt8Cod9wXR"
      },
      "outputs": [
        {
          "name": "stdout",
          "output_type": "stream",
          "text": [
            "{1, 2, 3, 4, 6}\n"
          ]
        }
      ],
      "source": [
        "#Q(24)Write a code to add the element 6 to the set {1, 2, 3, 4}?\n",
        "my_set = {1, 2, 3, 4}\n",
        "my_set.add(6)\n",
        "print(my_set)"
      ]
    },
    {
      "cell_type": "code",
      "execution_count": null,
      "metadata": {
        "id": "57iT1hL795hV"
      },
      "outputs": [],
      "source": []
    }
  ],
  "metadata": {
    "colab": {
      "private_outputs": true,
      "provenance": []
    },
    "kernelspec": {
      "display_name": "Python 3",
      "name": "python3"
    },
    "language_info": {
      "codemirror_mode": {
        "name": "ipython",
        "version": 3
      },
      "file_extension": ".py",
      "mimetype": "text/x-python",
      "name": "python",
      "nbconvert_exporter": "python",
      "pygments_lexer": "ipython3",
      "version": "3.13.1"
    }
  },
  "nbformat": 4,
  "nbformat_minor": 0
}
